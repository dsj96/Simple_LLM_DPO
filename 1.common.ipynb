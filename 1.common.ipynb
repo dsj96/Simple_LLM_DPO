{
 "cells": [
  {
   "cell_type": "code",
   "execution_count": 1,
   "id": "e8f59f4c",
   "metadata": {},
   "outputs": [
    {
     "data": {
      "text/plain": [
       "['SOS58.14=', '14.37--43.77EOS']"
      ]
     },
     "execution_count": 1,
     "metadata": {},
     "output_type": "execute_result"
    }
   ],
   "source": [
    "import random\n",
    "\n",
    "\n",
    "class Tokenizer:\n",
    "\n",
    "    def __init__(self, third_number=False):\n",
    "        self.vocab = {\n",
    "            'mark': 'PAD,SOS,EOS,.,='.split(','),\n",
    "            'number': '0,1,2,3,4,5,6,7,8,9'.split(','),\n",
    "            'symbol': '+,-,*,/,**'.split(','),\n",
    "            'letter': 'a,b,c,d,e,x,y,z'.split(','),\n",
    "        }\n",
    "\n",
    "        self.decoder = [j for i in self.vocab.values() for j in i]\n",
    "        self.encoder = {j: i for i, j in enumerate(self.decoder)}\n",
    "        self.third_number = third_number\n",
    "\n",
    "    def get_data(self):\n",
    "        s = random.choice(self.vocab['symbol'])\n",
    "\n",
    "        a = random.uniform(-100, 100)\n",
    "        b = random.uniform(-100, 100)\n",
    "\n",
    "        while s == '/' and abs(b) < 0.01:\n",
    "            b = random.uniform(-100, 100)\n",
    "\n",
    "        while s == '**' and abs(b) > 5:\n",
    "            b = random.uniform(-5, 5)\n",
    "\n",
    "        while s == '**' and abs(a) < 0.01:\n",
    "            a = random.uniform(-100, 100)\n",
    "\n",
    "        x = '%.2f%s%.2f' % (a, s, b)\n",
    "\n",
    "        #增加第三个数\n",
    "        if self.third_number:\n",
    "            x = '%s%s%.2f' % (x, '+', random.uniform(-100, 100))\n",
    "\n",
    "        y = '%.2f' % eval(x)\n",
    "\n",
    "        #交换问答方向\n",
    "        x, y = y, x\n",
    "\n",
    "        x = [self.encoder['SOS']] + [self.encoder[i]\n",
    "                                     for i in x] + [self.encoder['=']]\n",
    "        y = [self.encoder[i] for i in y] + [self.encoder['EOS']]\n",
    "\n",
    "        return x, y\n",
    "\n",
    "    def decode(self, x):\n",
    "        return ''.join([self.decoder[i] for i in x])\n",
    "\n",
    "\n",
    "tokenizer = Tokenizer(False)\n",
    "\n",
    "[tokenizer.decode(i) for i in tokenizer.get_data()]"
   ]
  },
  {
   "cell_type": "code",
   "execution_count": 2,
   "id": "730b8ac7",
   "metadata": {},
   "outputs": [],
   "source": [
    "import torch\n",
    "\n",
    "\n",
    "def get_loader(collate_fn):\n",
    "\n",
    "    class Dataset(torch.utils.data.Dataset):\n",
    "\n",
    "        def __len__(self):\n",
    "            return 10000\n",
    "\n",
    "        def __getitem__(self, i):\n",
    "            x, y = tokenizer.get_data()\n",
    "            return torch.LongTensor(x), torch.LongTensor(y)\n",
    "\n",
    "    return torch.utils.data.DataLoader(Dataset(),\n",
    "                                       batch_size=64,\n",
    "                                       drop_last=True,\n",
    "                                       collate_fn=collate_fn)"
   ]
  },
  {
   "cell_type": "code",
   "execution_count": 3,
   "id": "d65b850f",
   "metadata": {},
   "outputs": [
    {
     "name": "stderr",
     "output_type": "stream",
     "text": [
      "/root/anaconda3/envs/llama/lib/python3.9/site-packages/tqdm/auto.py:21: TqdmWarning: IProgress not found. Please update jupyter and ipywidgets. See https://ipywidgets.readthedocs.io/en/stable/user_install.html\n",
      "  from .autonotebook import tqdm as notebook_tqdm\n"
     ]
    },
    {
     "data": {
      "text/plain": [
       "torch.Size([2, 10, 28])"
      ]
     },
     "execution_count": 3,
     "metadata": {},
     "output_type": "execute_result"
    }
   ],
   "source": [
    "class Model(torch.nn.Module):\n",
    "\n",
    "    def __init__(self):\n",
    "        super().__init__()\n",
    "        from transformers import LlamaConfig, LlamaModel\n",
    "\n",
    "        self.config = LlamaConfig(hidden_size=64,\n",
    "                                  intermediate_size=64,\n",
    "                                  max_position_embeddings=256,\n",
    "                                  num_attention_heads=4,\n",
    "                                  num_hidden_layers=4,\n",
    "                                  num_key_value_heads=4,\n",
    "                                  vocab_size=len(tokenizer.decoder))\n",
    "\n",
    "        self.model = LlamaModel(self.config)\n",
    "        self.lm_head = torch.nn.Linear(64, self.config.vocab_size, bias=False)\n",
    "\n",
    "    def forward(self, input_ids, attention_mask):\n",
    "        out = self.model(input_ids=input_ids,\n",
    "                         attention_mask=attention_mask).last_hidden_state\n",
    "\n",
    "        return self.lm_head(out)\n",
    "\n",
    "\n",
    "model = Model()\n",
    "\n",
    "with torch.no_grad():\n",
    "    out = model(torch.ones(2, 10).long(), torch.ones(2, 10).long())\n",
    "\n",
    "out.shape"
   ]
  },
  {
   "cell_type": "code",
   "execution_count": 4,
   "id": "dae5c50b",
   "metadata": {},
   "outputs": [
    {
     "data": {
      "text/plain": [
       "tensor([[ 1,  1,  1,  1,  1,  1,  1,  1,  1,  1, 13, 14,  7,  1, 13, 14,  7,  1,\n",
       "         13, 14,  7,  1, 13, 14,  7,  1, 13, 14,  7,  1, 13, 14,  7,  1, 13, 14,\n",
       "          7,  1, 13, 14]])"
      ]
     },
     "execution_count": 4,
     "metadata": {},
     "output_type": "execute_result"
    }
   ],
   "source": [
    "from transformers import PreTrainedModel\n",
    "from transformers.modeling_outputs import CausalLMOutputWithPast\n",
    "\n",
    "\n",
    "#用于生成的包装类,非重点\n",
    "class GenerateModel(PreTrainedModel):\n",
    "\n",
    "    def __init__(self):\n",
    "        super().__init__(model.config)\n",
    "        self._ = torch.nn.Linear(1, 1)\n",
    "\n",
    "    def forward(self, input_ids, attention_mask, **kwargs):\n",
    "        out = model.model(input_ids=input_ids,\n",
    "                          attention_mask=attention_mask,\n",
    "                          **kwargs)\n",
    "        logits = model.lm_head(out.last_hidden_state)\n",
    "\n",
    "        return CausalLMOutputWithPast(logits=logits,\n",
    "                                      past_key_values=out.past_key_values)\n",
    "\n",
    "    def prepare_inputs_for_generation(self,\n",
    "                                      input_ids,\n",
    "                                      attention_mask,\n",
    "                                      use_cache,\n",
    "                                      past_key_values=None,\n",
    "                                      **kwargs):\n",
    "        lens, device = attention_mask.shape[1], attention_mask.device\n",
    "\n",
    "        # 位置编码,就是简单的自增数列\n",
    "        position_ids = torch.arange(lens).to(device)\n",
    "\n",
    "        # 如果不是第一次生成,则只要最后一个字的位置编码\n",
    "        if past_key_values:\n",
    "            position_ids = position_ids[-1]\n",
    "            input_ids = input_ids[:, -1]\n",
    "\n",
    "        position_ids = position_ids.reshape(1, -1)\n",
    "        input_ids = input_ids.reshape(1, -1)\n",
    "\n",
    "        return {\n",
    "            'input_ids': input_ids,\n",
    "            'position_ids': position_ids,\n",
    "            'past_key_values': past_key_values,\n",
    "            'use_cache': use_cache,\n",
    "            'attention_mask': attention_mask,\n",
    "        }\n",
    "\n",
    "\n",
    "generate_model = GenerateModel()\n",
    "\n",
    "generate_model.generate(torch.ones(1, 10).long(), max_length=40)"
   ]
  }
 ],
 "metadata": {
  "kernelspec": {
   "display_name": "Python [conda env:llama]",
   "language": "python",
   "name": "conda-env-llama-py"
  },
  "language_info": {
   "codemirror_mode": {
    "name": "ipython",
    "version": 3
   },
   "file_extension": ".py",
   "mimetype": "text/x-python",
   "name": "python",
   "nbconvert_exporter": "python",
   "pygments_lexer": "ipython3",
   "version": "3.9.17"
  }
 },
 "nbformat": 4,
 "nbformat_minor": 5
}
